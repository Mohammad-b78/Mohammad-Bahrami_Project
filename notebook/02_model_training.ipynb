{
 "cells": [
  {
   "cell_type": "markdown",
   "id": "7ab1da5a",
   "metadata": {},
   "source": [
    "## Part 2: Model Training\n",
    "\n",
    "In this section, three algorithms — Logistic Regression, KNN, and Artificial Neural Network (ANN) — were applied to the training and validation data.  \n",
    "First, the data was preprocessed and encoded, then each model was tuned and evaluated to achieve the best possible performance."
   ]
  },
  {
   "cell_type": "code",
   "execution_count": 50,
   "id": "725a78ea",
   "metadata": {},
   "outputs": [],
   "source": [
    "import os\n",
    "import numpy as np\n",
    "import pandas as pd\n",
    "import matplotlib.pyplot as plt\n",
    "import seaborn as sns\n",
    "\n",
    "from sklearn.linear_model import LogisticRegression\n",
    "from sklearn.neighbors import KNeighborsClassifier\n",
    "from sklearn.metrics import (\n",
    "    accuracy_score, precision_score, recall_score, f1_score,\n",
    "    confusion_matrix, classification_report\n",
    ")\n",
    "\n",
    "\n",
    "plt.rcParams[\"figure.figsize\"] = (6,4)\n",
    "sns.set(style=\"whitegrid\")"
   ]
  },
  {
   "cell_type": "code",
   "execution_count": null,
   "id": "b33170dd",
   "metadata": {},
   "outputs": [],
   "source": [
    "def load_split(name):\n",
    "    base_dir = \"./notebook\"\n",
    "    csv_path = os.path.join(base_dir, f\"{name}.csv\")\n",
    "    pkl_path = os.path.join(base_dir, f\"{name}.pkl\")\n",
    "    if os.path.exists(csv_path):\n",
    "        return pd.read_csv(csv_path)\n",
    "    elif os.path.exists(pkl_path):\n",
    "        import joblib\n",
    "        return joblib.load(pkl_path)\n",
    "    else:\n",
    "        raise FileNotFoundError(f\"Neither {csv_path} nor {pkl_path} found.\")"
   ]
  },
  {
   "cell_type": "code",
   "execution_count": 30,
   "id": "3b77142e",
   "metadata": {},
   "outputs": [
    {
     "name": "stdout",
     "output_type": "stream",
     "text": [
      "Train: (399, 11) | Val: (122, 11) | Test: (93, 11)\n"
     ]
    }
   ],
   "source": [
    "X_train = load_split(\"X_train\")\n",
    "X_val   = load_split(\"X_val\")\n",
    "X_test  = load_split(\"X_test\")\n",
    "\n",
    "y_train = load_split(\"y_train\")\n",
    "y_val   = load_split(\"y_val\")\n",
    "y_test  = load_split(\"y_test\")\n",
    "\n",
    "\n",
    "if isinstance(y_train, pd.DataFrame): y_train = y_train.squeeze().values\n",
    "if isinstance(y_val, pd.DataFrame):   y_val   = y_val.squeeze().values\n",
    "if isinstance(y_test, pd.DataFrame):  y_test  = y_test.squeeze().values\n",
    "\n",
    "print(\"Train:\", X_train.shape, \"| Val:\", X_val.shape, \"| Test:\", X_test.shape)"
   ]
  },
  {
   "cell_type": "code",
   "execution_count": 31,
   "id": "8ae16498",
   "metadata": {},
   "outputs": [
    {
     "name": "stderr",
     "output_type": "stream",
     "text": [
      "C:\\Users\\mbahr\\AppData\\Local\\Temp\\ipykernel_10452\\61229475.py:1: FutureWarning: Downcasting behavior in `replace` is deprecated and will be removed in a future version. To retain the old behavior, explicitly call `result.infer_objects(copy=False)`. To opt-in to the future behavior, set `pd.set_option('future.no_silent_downcasting', True)`\n",
      "  y_train_num = y_train.replace({'Y':1, 'N':0}).astype(np.float32)\n",
      "C:\\Users\\mbahr\\AppData\\Local\\Temp\\ipykernel_10452\\61229475.py:2: FutureWarning: Downcasting behavior in `replace` is deprecated and will be removed in a future version. To retain the old behavior, explicitly call `result.infer_objects(copy=False)`. To opt-in to the future behavior, set `pd.set_option('future.no_silent_downcasting', True)`\n",
      "  y_val_num   = y_val.replace({'Y':1, 'N':0}).astype(np.float32)\n",
      "C:\\Users\\mbahr\\AppData\\Local\\Temp\\ipykernel_10452\\61229475.py:3: FutureWarning: Downcasting behavior in `replace` is deprecated and will be removed in a future version. To retain the old behavior, explicitly call `result.infer_objects(copy=False)`. To opt-in to the future behavior, set `pd.set_option('future.no_silent_downcasting', True)`\n",
      "  y_test_num  = y_test.replace({'Y':1, 'N':0}).astype(np.float32)\n"
     ]
    }
   ],
   "source": [
    "y_train_num = y_train.replace({'Y':1, 'N':0}).astype(np.float32)\n",
    "y_val_num   = y_val.replace({'Y':1, 'N':0}).astype(np.float32)\n",
    "y_test_num  = y_test.replace({'Y':1, 'N':0}).astype(np.float32)"
   ]
  },
  {
   "cell_type": "code",
   "execution_count": 33,
   "id": "acef4dde",
   "metadata": {},
   "outputs": [
    {
     "name": "stdout",
     "output_type": "stream",
     "text": [
      "Encoding done. Shapes:\n",
      "X_train_final: (399, 14)\n",
      "X_val_final: (122, 14)\n",
      "X_test_final: (93, 14)\n"
     ]
    }
   ],
   "source": [
    "from sklearn.preprocessing import OneHotEncoder\n",
    "\n",
    "cat_cols = X_train.select_dtypes(include='object').columns.tolist()\n",
    "\n",
    "\n",
    "encoder = OneHotEncoder(sparse_output=False, drop='first', handle_unknown='ignore')\n",
    "\n",
    "\n",
    "X_train_encoded = encoder.fit_transform(X_train[cat_cols])\n",
    "X_val_encoded   = encoder.transform(X_val[cat_cols])\n",
    "X_test_encoded  = encoder.transform(X_test[cat_cols])\n",
    "\n",
    "\n",
    "num_cols_train = X_train.drop(columns=cat_cols).values\n",
    "X_train_final = np.hstack([num_cols_train, X_train_encoded])\n",
    "\n",
    "num_cols_val = X_val.drop(columns=cat_cols).values\n",
    "X_val_final = np.hstack([num_cols_val, X_val_encoded])\n",
    "\n",
    "num_cols_test = X_test.drop(columns=cat_cols).values\n",
    "X_test_final = np.hstack([num_cols_test, X_test_encoded])\n",
    "\n",
    "print(\"Encoding done. Shapes:\")\n",
    "print(\"X_train_final:\", X_train_final.shape)\n",
    "print(\"X_val_final:\", X_val_final.shape)\n",
    "print(\"X_test_final:\", X_test_final.shape)"
   ]
  },
  {
   "cell_type": "code",
   "execution_count": 34,
   "id": "3786f60c",
   "metadata": {},
   "outputs": [
    {
     "name": "stdout",
     "output_type": "stream",
     "text": [
      "Logistic Regression - Validation Accuracy: 0.819672131147541\n",
      "\n",
      "Classification Report:\n",
      "               precision    recall  f1-score   support\n",
      "\n",
      "           N       0.86      0.50      0.63        38\n",
      "           Y       0.81      0.96      0.88        84\n",
      "\n",
      "    accuracy                           0.82       122\n",
      "   macro avg       0.84      0.73      0.76       122\n",
      "weighted avg       0.83      0.82      0.80       122\n",
      "\n"
     ]
    }
   ],
   "source": [
    "\n",
    "log_reg = LogisticRegression(max_iter=1000, random_state=42)\n",
    "\n",
    "\n",
    "log_reg.fit(X_train_final, y_train)\n",
    "\n",
    "\n",
    "y_val_pred = log_reg.predict(X_val_final)\n",
    "\n",
    "\n",
    "print(\"Logistic Regression - Validation Accuracy:\", accuracy_score(y_val, y_val_pred))\n",
    "print(\"\\nClassification Report:\\n\", classification_report(y_val, y_val_pred))"
   ]
  },
  {
   "cell_type": "code",
   "execution_count": 52,
   "id": "03d386dc",
   "metadata": {},
   "outputs": [
    {
     "name": "stdout",
     "output_type": "stream",
     "text": [
      "Best K: 17 with Accuracy: 0.8279\n"
     ]
    }
   ],
   "source": [
    "\n",
    "best_k = None\n",
    "best_acc = 0\n",
    "for k in range(1, 21):\n",
    "    knn = KNeighborsClassifier(n_neighbors=k)\n",
    "    knn.fit(X_train_final, y_train_num)\n",
    "    acc = accuracy_score(y_val_num, knn.predict(X_val_final))\n",
    "    if acc > best_acc:\n",
    "        best_acc = acc\n",
    "        best_k = k\n",
    "\n",
    "print(f\"Best K: {best_k} with Accuracy: {best_acc:.4f}\")\n",
    "\n",
    "\n",
    "knn_best = KNeighborsClassifier(n_neighbors=best_k)\n",
    "knn_best.fit(X_train_final, y_train_num)\n",
    "y_val_pred_knn = knn_best.predict(X_val_final)\n",
    "\n"
   ]
  },
  {
   "cell_type": "code",
   "execution_count": 53,
   "id": "f8d75b35",
   "metadata": {},
   "outputs": [],
   "source": [
    "X_train_final = X_train_final.astype(np.float32)\n",
    "X_val_final   = X_val_final.astype(np.float32)\n",
    "X_test_final  = X_test_final.astype(np.float32)"
   ]
  },
  {
   "cell_type": "code",
   "execution_count": 54,
   "id": "9c682679",
   "metadata": {},
   "outputs": [
    {
     "name": "stderr",
     "output_type": "stream",
     "text": [
      "e:\\Mohammad Bahrami_Project\\.venv\\Lib\\site-packages\\keras\\src\\layers\\core\\dense.py:92: UserWarning: Do not pass an `input_shape`/`input_dim` argument to a layer. When using Sequential models, prefer using an `Input(shape)` object as the first layer in the model instead.\n",
      "  super().__init__(activity_regularizer=activity_regularizer, **kwargs)\n"
     ]
    },
    {
     "name": "stdout",
     "output_type": "stream",
     "text": [
      "ANN - Validation Accuracy: 0.7786885499954224\n"
     ]
    }
   ],
   "source": [
    "import tensorflow as tf\n",
    "from tensorflow.keras import models, layers\n",
    "\n",
    "\n",
    "\n",
    "X_train_ann = X_train_final.astype(np.float32)\n",
    "X_val_ann   = X_val_final.astype(np.float32)\n",
    "\n",
    "\n",
    "ann = models.Sequential([\n",
    "    layers.Dense(64, activation='relu', input_shape=(X_train_ann.shape[1],)),\n",
    "    layers.Dense(32, activation='relu'),\n",
    "    layers.Dense(1, activation='sigmoid')\n",
    "])\n",
    "\n",
    "ann.compile(optimizer='adam', loss='binary_crossentropy', metrics=['accuracy'])\n",
    "\n",
    "\n",
    "history = ann.fit(\n",
    "    X_train_ann, y_train_num,\n",
    "    epochs=50,\n",
    "    validation_data=(X_val_ann, y_val_num),\n",
    "    verbose=0\n",
    ")\n",
    "\n",
    "\n",
    "val_loss, val_acc = ann.evaluate(X_val_ann, y_val_num, verbose=0)\n",
    "print(\"ANN - Validation Accuracy:\", val_acc)"
   ]
  },
  {
   "cell_type": "code",
   "execution_count": 55,
   "id": "70fe1829",
   "metadata": {},
   "outputs": [],
   "source": [
    "if 'y_val_num' not in globals():\n",
    "    y_val_num = pd.Series(y_val).replace({'Y':1,'N':0}).astype(np.float32).values\n",
    "\n",
    "if 'y_train_num' not in globals():\n",
    "    y_train_num = pd.Series(y_train).replace({'Y':1,'N':0}).astype(np.float32).values\n",
    "\n",
    "\n",
    "if 'y_val_pred_log' not in globals():\n",
    "    y_val_pred_log = log_reg.predict(X_val_final)\n",
    "\n",
    "\n",
    "if 'knn_best' not in globals():\n",
    "    if 'best_k' not in globals():\n",
    "        best_k, _best_acc = None, -1\n",
    "        for k in range(1, 21):\n",
    "            _knn = KNeighborsClassifier(n_neighbors=k).fit(X_train_final, y_train_num)\n",
    "            _acc = accuracy_score(y_val_num, _knn.predict(X_val_final))\n",
    "            if _acc > _best_acc:\n",
    "                best_k, _best_acc = k, _acc\n",
    "    knn_best = KNeighborsClassifier(n_neighbors=best_k).fit(X_train_final, y_train_num)\n",
    "\n",
    "\n",
    "if 'y_val_pred_knn' not in globals():\n",
    "    y_val_pred_knn = knn_best.predict(X_val_final)\n",
    "\n",
    "\n",
    "if 'val_acc' not in globals():\n",
    "    y_val_pred_ann = (ann.predict(X_val_final).ravel() > 0.5).astype(int)\n",
    "    val_acc = accuracy_score(y_val_num, y_val_pred_ann)\n"
   ]
  },
  {
   "cell_type": "code",
   "execution_count": 56,
   "id": "6c19063f",
   "metadata": {},
   "outputs": [],
   "source": [
    "if 'y_val_pred_log' in globals():\n",
    "    y_val_pred_log = pd.Series(y_val_pred_log).replace({'Y':1,'N':0}).astype(int).values\n",
    "\n",
    "\n",
    "if 'y_val_pred_knn' in globals():\n",
    "    y_val_pred_knn = pd.Series(y_val_pred_knn).replace({'Y':1,'N':0}).astype(int).values\n"
   ]
  },
  {
   "cell_type": "code",
   "execution_count": 57,
   "id": "210a0c4a",
   "metadata": {},
   "outputs": [
    {
     "data": {
      "image/png": "[encoded data removed]",
      "text/plain": [
       "<Figure size 800x500 with 1 Axes>"
      ]
     },
     "metadata": {},
     "output_type": "display_data"
    }
   ],
   "source": [
    "model_names = [\"Logistic Regression\", f\"KNN (k={best_k})\", \"ANN\"]\n",
    "val_accuracies = [\n",
    "    accuracy_score(y_val_num, y_val_pred_log),\n",
    "    accuracy_score(y_val_num, y_val_pred_knn),\n",
    "    val_acc\n",
    "]\n",
    "\n",
    "plt.figure(figsize=(8,5))\n",
    "plt.plot(model_names, val_accuracies, marker='o', linestyle='-')\n",
    "plt.ylabel(\"Validation Accuracy\")\n",
    "plt.title(\"Model Comparison - Line Chart\")\n",
    "plt.ylim(0, 1)\n",
    "\n",
    "for i, acc in enumerate(val_accuracies):\n",
    "    plt.text(i, acc+0.01, f\"{acc:.2f}\", ha='center')\n",
    "\n",
    "plt.show()"
   ]
  },
  {
   "cell_type": "code",
   "execution_count": 58,
   "id": "f76738c3",
   "metadata": {},
   "outputs": [
    {
     "name": "stdout",
     "output_type": "stream",
     "text": [
      "Models and data have been saved\n"
     ]
    }
   ],
   "source": [
    "import joblib\n",
    "\n",
    "joblib.dump(log_reg, \"logistic_regression_model.pkl\")\n",
    "joblib.dump(knn, \"knn_model.pkl\")\n",
    "joblib.dump(ann, \"ann_model.pkl\")\n",
    "\n",
    "\n",
    "import pickle\n",
    "\n",
    "with open(\"data_splits.pkl\", \"wb\") as f:\n",
    "    pickle.dump((X_train, X_test, y_train, y_test), f)\n",
    "\n",
    "print(\"Models and data have been saved\")"
   ]
  },
  {
   "cell_type": "markdown",
   "id": "61a62fe3",
   "metadata": {},
   "source": [
    "## Conclusion of Part 2\n",
    "\n",
    "The evaluation results on the validation data showed that:  \n",
    "- The KNN model (with k=17) achieved the best performance (Accuracy ≈ 0.83).  \n",
    "- Logistic Regression performed reasonably well with Accuracy ≈ 0.82.  \n",
    "- Artificial Neural Network (ANN) performed slightly worse (Accuracy ≈ 0.78).  \n",
    "\n",
    "Therefore, for this dataset, KNN is the best choice for further work."
   ]
  }
 ],
 "metadata": {
  "kernelspec": {
   "display_name": ".venv",
   "language": "python",
   "name": "python3"
  },
  "language_info": {
   "codemirror_mode": {
    "name": "ipython",
    "version": 3
   },
   "file_extension": ".py",
   "mimetype": "text/x-python",
   "name": "python",
   "nbconvert_exporter": "python",
   "pygments_lexer": "ipython3",
   "version": "3.13.5"
  }
 },
 "nbformat": 4,
 "nbformat_minor": 5
}
