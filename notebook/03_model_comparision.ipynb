{
 "cells": [
  {
   "cell_type": "markdown",
   "id": "847a5662",
   "metadata": {},
   "source": [
    "## Part 3: Model Comparison\n",
    "\n",
    "In this section, the models trained in the previous stage (Logistic Regression, KNN, and ANN) are evaluated on the test data.  \n",
    "The goal is to compare the performance of each model based on the Accuracy metric and ultimately select and save the best model."
   ]
  },
  {
   "cell_type": "code",
   "execution_count": 1,
   "id": "2801a302",
   "metadata": {},
   "outputs": [],
   "source": [
    "import pandas as pd\n",
    "import numpy as np\n",
    "import joblib\n",
    "import pickle\n",
    "\n",
    "from sklearn.model_selection import train_test_split\n",
    "from sklearn.preprocessing import LabelEncoder, StandardScaler\n",
    "from sklearn.metrics import accuracy_score, classification_report\n",
    "from sklearn.linear_model import LogisticRegression\n",
    "from sklearn.neighbors import KNeighborsClassifier\n",
    "from sklearn.neural_network import MLPClassifier"
   ]
  },
  {
   "cell_type": "code",
   "execution_count": 2,
   "id": "a5d8407c",
   "metadata": {},
   "outputs": [
    {
     "name": "stdout",
     "output_type": "stream",
     "text": [
      "Data loaded successfully from Part 2!\n"
     ]
    }
   ],
   "source": [
    "with open(\"data_splits.pkl\", \"rb\") as f:\n",
    "    X_train, X_test, y_train, y_test = pickle.load(f)\n",
    "\n",
    "print(\"Data loaded successfully from Part 2!\")"
   ]
  },
  {
   "cell_type": "code",
   "execution_count": 3,
   "id": "02c810d4",
   "metadata": {},
   "outputs": [
    {
     "name": "stdout",
     "output_type": "stream",
     "text": [
      "Categorical data converted to numeric successfully.\n"
     ]
    }
   ],
   "source": [
    "label_encoders = {}\n",
    "for column in X_train.columns:\n",
    "    if X_train[column].dtype == 'object':\n",
    "        le = LabelEncoder()\n",
    "        X_train[column] = le.fit_transform(X_train[column].astype(str))\n",
    "        X_test[column] = le.transform(X_test[column].astype(str))\n",
    "        label_encoders[column] = le\n",
    "\n",
    "print(\"Categorical data converted to numeric successfully.\")"
   ]
  },
  {
   "cell_type": "code",
   "execution_count": 4,
   "id": "ce09463f",
   "metadata": {},
   "outputs": [
    {
     "name": "stdout",
     "output_type": "stream",
     "text": [
      "Features and target variable are already separated (from Part 2).\n",
      "X_train shape: (399, 11)\n",
      "y_train shape: (399,)\n"
     ]
    }
   ],
   "source": [
    "print(\"Features and target variable are already separated (from Part 2).\")\n",
    "print(\"X_train shape:\", X_train.shape)\n",
    "print(\"y_train shape:\", y_train.shape)"
   ]
  },
  {
   "cell_type": "code",
   "execution_count": 5,
   "id": "1f43f064",
   "metadata": {},
   "outputs": [
    {
     "name": "stdout",
     "output_type": "stream",
     "text": [
      "Logistic Regression Performance:\n",
      "Accuracy: 0.8602150537634409\n",
      "              precision    recall  f1-score   support\n",
      "\n",
      "           N       0.94      0.59      0.72        29\n",
      "           Y       0.84      0.98      0.91        64\n",
      "\n",
      "    accuracy                           0.86        93\n",
      "   macro avg       0.89      0.79      0.81        93\n",
      "weighted avg       0.87      0.86      0.85        93\n",
      "\n"
     ]
    }
   ],
   "source": [
    "log_reg = LogisticRegression(max_iter=1000)\n",
    "log_reg.fit(X_train, y_train)\n",
    "\n",
    "y_pred_log = log_reg.predict(X_test)\n",
    "\n",
    "print(\"Logistic Regression Performance:\")\n",
    "print(\"Accuracy:\", accuracy_score(y_test, y_pred_log))\n",
    "print(classification_report(y_test, y_pred_log))"
   ]
  },
  {
   "cell_type": "code",
   "execution_count": 6,
   "id": "712e2678",
   "metadata": {},
   "outputs": [
    {
     "name": "stdout",
     "output_type": "stream",
     "text": [
      "KNN Performance:\n",
      "Accuracy: 0.8387096774193549\n",
      "              precision    recall  f1-score   support\n",
      "\n",
      "           N       0.82      0.62      0.71        29\n",
      "           Y       0.85      0.94      0.89        64\n",
      "\n",
      "    accuracy                           0.84        93\n",
      "   macro avg       0.83      0.78      0.80        93\n",
      "weighted avg       0.84      0.84      0.83        93\n",
      "\n"
     ]
    }
   ],
   "source": [
    "knn = KNeighborsClassifier(n_neighbors=5)\n",
    "knn.fit(X_train, y_train)\n",
    "\n",
    "y_pred_knn = knn.predict(X_test)\n",
    "\n",
    "print(\"KNN Performance:\")\n",
    "print(\"Accuracy:\", accuracy_score(y_test, y_pred_knn))\n",
    "print(classification_report(y_test, y_pred_knn))\n"
   ]
  },
  {
   "cell_type": "code",
   "execution_count": 7,
   "id": "64a58bc2",
   "metadata": {},
   "outputs": [
    {
     "name": "stdout",
     "output_type": "stream",
     "text": [
      "ANN Performance:\n",
      "Accuracy: 0.7634408602150538\n",
      "              precision    recall  f1-score   support\n",
      "\n",
      "           N       0.62      0.62      0.62        29\n",
      "           Y       0.83      0.83      0.83        64\n",
      "\n",
      "    accuracy                           0.76        93\n",
      "   macro avg       0.72      0.72      0.72        93\n",
      "weighted avg       0.76      0.76      0.76        93\n",
      "\n"
     ]
    },
    {
     "name": "stderr",
     "output_type": "stream",
     "text": [
      "e:\\Mohammad Bahrami_Project\\.venv\\Lib\\site-packages\\sklearn\\neural_network\\_multilayer_perceptron.py:781: ConvergenceWarning: Stochastic Optimizer: Maximum iterations (500) reached and the optimization hasn't converged yet.\n",
      "  warnings.warn(\n"
     ]
    }
   ],
   "source": [
    "ann = MLPClassifier(hidden_layer_sizes=(64, 32), max_iter=500, random_state=42)\n",
    "ann.fit(X_train, y_train)\n",
    "\n",
    "y_pred_ann = ann.predict(X_test)\n",
    "\n",
    "print(\"ANN Performance:\")\n",
    "print(\"Accuracy:\", accuracy_score(y_test, y_pred_ann))\n",
    "print(classification_report(y_test, y_pred_ann))"
   ]
  },
  {
   "cell_type": "code",
   "execution_count": 8,
   "id": "2eadfdda",
   "metadata": {},
   "outputs": [
    {
     "name": "stdout",
     "output_type": "stream",
     "text": [
      "                     Accuracy\n",
      "Logistic Regression  0.860215\n",
      "KNN                  0.838710\n",
      "ANN                  0.763441\n"
     ]
    }
   ],
   "source": [
    "results = {\n",
    "    \"Logistic Regression\": accuracy_score(y_test, y_pred_log),\n",
    "    \"KNN\": accuracy_score(y_test, y_pred_knn),\n",
    "    \"ANN\": accuracy_score(y_test, y_pred_ann)\n",
    "}\n",
    "\n",
    "results_df = pd.DataFrame.from_dict(results, orient='index', columns=['Accuracy'])\n",
    "print(results_df)"
   ]
  },
  {
   "cell_type": "code",
   "execution_count": 9,
   "id": "683548fe",
   "metadata": {},
   "outputs": [
    {
     "name": "stdout",
     "output_type": "stream",
     "text": [
      "Best model based on accuracy: Logistic Regression\n",
      "Final model saved as final_model.pkl\n"
     ]
    }
   ],
   "source": [
    "best_model_name = max(results, key=results.get)\n",
    "print(f\"Best model based on accuracy: {best_model_name}\")\n",
    "\n",
    "\n",
    "if best_model_name == \"Logistic Regression\":\n",
    "    final_model = log_reg\n",
    "elif best_model_name == \"KNN\":\n",
    "    final_model = knn\n",
    "else:\n",
    "    final_model = ann\n",
    "\n",
    "joblib.dump(final_model, \"final_model.pkl\")\n",
    "print(\"Final model saved as final_model.pkl\")"
   ]
  },
  {
   "cell_type": "markdown",
   "id": "c8493b5d",
   "metadata": {},
   "source": [
    "## Conclusion of Part 3\n",
    "\n",
    "After comparing the three different models, the results showed that the Logistic Regression model achieved the highest accuracy on the test data.  \n",
    "Therefore, this model was selected as the final model and saved in the file final_model.pkl to be used in the subsequent stages.\n"
   ]
  }
 ],
 "metadata": {
  "kernelspec": {
   "display_name": ".venv",
   "language": "python",
   "name": "python3"
  },
  "language_info": {
   "codemirror_mode": {
    "name": "ipython",
    "version": 3
   },
   "file_extension": ".py",
   "mimetype": "text/x-python",
   "name": "python",
   "nbconvert_exporter": "python",
   "pygments_lexer": "ipython3",
   "version": "3.13.5"
  }
 },
 "nbformat": 4,
 "nbformat_minor": 5
}
